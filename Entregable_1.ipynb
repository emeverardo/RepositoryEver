{
 "cells": [
  {
   "cell_type": "markdown",
   "metadata": {},
   "source": [
    "#  EJERCICIO para entregar (1era parte)"
   ]
  },
  {
   "cell_type": "markdown",
   "metadata": {},
   "source": [
    "EQUIPO:\n",
    "- Veronica Fajardo Vega\n",
    "- Everardo Espinoza Mendez"
   ]
  },
  {
   "cell_type": "markdown",
   "metadata": {},
   "source": [
    "1. Importa con la librería de pandas, como csv, los datos que vienen aquí: \n",
    "https://s3-ap-southeast-1.amazonaws.com/av-datahack-datacamp/train.csv y llámalo train.set\n",
    "https://s3-ap-southeast-1.amazonaws.com/av-datahack-datacamp/test.csv y llámalo test.set"
   ]
  },
  {
   "cell_type": "code",
   "execution_count": 2,
   "metadata": {},
   "outputs": [
    {
     "name": "stdout",
     "output_type": "stream",
     "text": [
      "ARCHIVO:C:/Users/samara/.spyder-py3/test.csv\n",
      "      Loan_ID  Gender Married Dependents     Education Self_Employed  \\\n",
      "0    LP001015    Male     Yes          0      Graduate            No   \n",
      "1    LP001022    Male     Yes          1      Graduate            No   \n",
      "2    LP001031    Male     Yes          2      Graduate            No   \n",
      "3    LP001035    Male     Yes          2      Graduate            No   \n",
      "4    LP001051    Male      No          0  Not Graduate            No   \n",
      "5    LP001054    Male     Yes          0  Not Graduate           Yes   \n",
      "6    LP001055  Female      No          1  Not Graduate            No   \n",
      "7    LP001056    Male     Yes          2  Not Graduate            No   \n",
      "8    LP001059    Male     Yes          2      Graduate           NaN   \n",
      "9    LP001067    Male      No          0  Not Graduate            No   \n",
      "10   LP001078    Male      No          0  Not Graduate            No   \n",
      "11   LP001082    Male     Yes          1      Graduate           NaN   \n",
      "12   LP001083    Male      No         3+      Graduate            No   \n",
      "13   LP001094    Male     Yes          2      Graduate           NaN   \n",
      "14   LP001096  Female      No          0      Graduate            No   \n",
      "15   LP001099    Male      No          1      Graduate            No   \n",
      "16   LP001105    Male     Yes          2      Graduate            No   \n",
      "17   LP001107    Male     Yes         3+      Graduate            No   \n",
      "18   LP001108    Male     Yes          0      Graduate            No   \n",
      "19   LP001115    Male      No          0      Graduate            No   \n",
      "20   LP001121    Male     Yes          1  Not Graduate            No   \n",
      "21   LP001124  Female      No         3+  Not Graduate            No   \n",
      "22   LP001128     NaN      No          0      Graduate            No   \n",
      "23   LP001135  Female      No          0  Not Graduate            No   \n",
      "24   LP001149    Male     Yes          0      Graduate            No   \n",
      "25   LP001153    Male      No          0      Graduate            No   \n",
      "26   LP001163    Male     Yes          2      Graduate            No   \n",
      "27   LP001169    Male     Yes          0      Graduate            No   \n",
      "28   LP001174    Male     Yes          0      Graduate            No   \n",
      "29   LP001176    Male      No          0      Graduate            No   \n",
      "..        ...     ...     ...        ...           ...           ...   \n",
      "337  LP002856    Male     Yes          0      Graduate            No   \n",
      "338  LP002857    Male     Yes          1      Graduate           Yes   \n",
      "339  LP002858  Female      No          0      Graduate            No   \n",
      "340  LP002860    Male     Yes          0      Graduate           Yes   \n",
      "341  LP002867    Male      No          0      Graduate           Yes   \n",
      "342  LP002869    Male     Yes         3+  Not Graduate            No   \n",
      "343  LP002870    Male     Yes          1      Graduate            No   \n",
      "344  LP002876    Male      No          0      Graduate            No   \n",
      "345  LP002878    Male     Yes         3+      Graduate            No   \n",
      "346  LP002879    Male     Yes          0      Graduate            No   \n",
      "347  LP002885    Male      No          0  Not Graduate            No   \n",
      "348  LP002890    Male     Yes          2  Not Graduate            No   \n",
      "349  LP002891    Male     Yes          0      Graduate           Yes   \n",
      "350  LP002899    Male     Yes          2      Graduate            No   \n",
      "351  LP002901    Male      No          0      Graduate            No   \n",
      "352  LP002907    Male     Yes          0      Graduate            No   \n",
      "353  LP002920    Male     Yes          0      Graduate            No   \n",
      "354  LP002921    Male     Yes         3+  Not Graduate            No   \n",
      "355  LP002932    Male     Yes         3+      Graduate            No   \n",
      "356  LP002935    Male     Yes          1      Graduate            No   \n",
      "357  LP002952    Male      No          0      Graduate            No   \n",
      "358  LP002954    Male     Yes          2  Not Graduate            No   \n",
      "359  LP002962    Male      No          0      Graduate            No   \n",
      "360  LP002965  Female     Yes          0      Graduate            No   \n",
      "361  LP002969    Male     Yes          1      Graduate            No   \n",
      "362  LP002971    Male     Yes         3+  Not Graduate           Yes   \n",
      "363  LP002975    Male     Yes          0      Graduate            No   \n",
      "364  LP002980    Male      No          0      Graduate            No   \n",
      "365  LP002986    Male     Yes          0      Graduate            No   \n",
      "366  LP002989    Male      No          0      Graduate           Yes   \n",
      "\n",
      "     ApplicantIncome  CoapplicantIncome  LoanAmount  Loan_Amount_Term  \\\n",
      "0               5720                  0       110.0             360.0   \n",
      "1               3076               1500       126.0             360.0   \n",
      "2               5000               1800       208.0             360.0   \n",
      "3               2340               2546       100.0             360.0   \n",
      "4               3276                  0        78.0             360.0   \n",
      "5               2165               3422       152.0             360.0   \n",
      "6               2226                  0        59.0             360.0   \n",
      "7               3881                  0       147.0             360.0   \n",
      "8              13633                  0       280.0             240.0   \n",
      "9               2400               2400       123.0             360.0   \n",
      "10              3091                  0        90.0             360.0   \n",
      "11              2185               1516       162.0             360.0   \n",
      "12              4166                  0        40.0             180.0   \n",
      "13             12173                  0       166.0             360.0   \n",
      "14              4666                  0       124.0             360.0   \n",
      "15              5667                  0       131.0             360.0   \n",
      "16              4583               2916       200.0             360.0   \n",
      "17              3786                333       126.0             360.0   \n",
      "18              9226               7916       300.0             360.0   \n",
      "19              1300               3470       100.0             180.0   \n",
      "20              1888               1620        48.0             360.0   \n",
      "21              2083                  0        28.0             180.0   \n",
      "22              3909                  0       101.0             360.0   \n",
      "23              3765                  0       125.0             360.0   \n",
      "24              5400               4380       290.0             360.0   \n",
      "25                 0              24000       148.0             360.0   \n",
      "26              4363               1250       140.0             360.0   \n",
      "27              7500               3750       275.0             360.0   \n",
      "28              3772                833        57.0             360.0   \n",
      "29              2942               2382       125.0             180.0   \n",
      "..               ...                ...         ...               ...   \n",
      "337             2292               1558       119.0             360.0   \n",
      "338             2360               3355        87.0             240.0   \n",
      "339             4333               2333       162.0             360.0   \n",
      "340             2623               4831       122.0             180.0   \n",
      "341             3972               4275       187.0             360.0   \n",
      "342             3522                  0        81.0             180.0   \n",
      "343             4700                  0        80.0             360.0   \n",
      "344             6858                  0       176.0             360.0   \n",
      "345             8334                  0       260.0             360.0   \n",
      "346             3391               1966       133.0             360.0   \n",
      "347             2868                  0        70.0             360.0   \n",
      "348             3418               1380       135.0             360.0   \n",
      "349             2500                296       137.0             300.0   \n",
      "350             8667                  0       254.0             360.0   \n",
      "351             2283              15000       106.0             360.0   \n",
      "352             5817                910       109.0             360.0   \n",
      "353             5119               3769       120.0             360.0   \n",
      "354             5316                187       158.0             180.0   \n",
      "355             7603               1213       197.0             360.0   \n",
      "356             3791               1936        85.0             360.0   \n",
      "357             2500                  0        60.0             360.0   \n",
      "358             3132                  0        76.0             360.0   \n",
      "359             4000               2667       152.0             360.0   \n",
      "360             8550               4255        96.0             360.0   \n",
      "361             2269               2167        99.0             360.0   \n",
      "362             4009               1777       113.0             360.0   \n",
      "363             4158                709       115.0             360.0   \n",
      "364             3250               1993       126.0             360.0   \n",
      "365             5000               2393       158.0             360.0   \n",
      "366             9200                  0        98.0             180.0   \n",
      "\n",
      "     Credit_History Property_Area  \n",
      "0               1.0         Urban  \n",
      "1               1.0         Urban  \n",
      "2               1.0         Urban  \n",
      "3               NaN         Urban  \n",
      "4               1.0         Urban  \n",
      "5               1.0         Urban  \n",
      "6               1.0     Semiurban  \n",
      "7               0.0         Rural  \n",
      "8               1.0         Urban  \n",
      "9               1.0     Semiurban  \n",
      "10              1.0         Urban  \n",
      "11              1.0     Semiurban  \n",
      "12              NaN         Urban  \n",
      "13              0.0     Semiurban  \n",
      "14              1.0     Semiurban  \n",
      "15              1.0         Urban  \n",
      "16              1.0         Urban  \n",
      "17              1.0     Semiurban  \n",
      "18              1.0         Urban  \n",
      "19              1.0     Semiurban  \n",
      "20              1.0         Urban  \n",
      "21              1.0         Urban  \n",
      "22              1.0         Urban  \n",
      "23              1.0         Urban  \n",
      "24              1.0         Urban  \n",
      "25              0.0         Rural  \n",
      "26              NaN         Urban  \n",
      "27              1.0         Urban  \n",
      "28              NaN     Semiurban  \n",
      "29              1.0         Urban  \n",
      "..              ...           ...  \n",
      "337             1.0         Urban  \n",
      "338             1.0         Rural  \n",
      "339             0.0         Rural  \n",
      "340             1.0     Semiurban  \n",
      "341             1.0         Rural  \n",
      "342             1.0         Rural  \n",
      "343             1.0         Urban  \n",
      "344             1.0         Rural  \n",
      "345             1.0         Urban  \n",
      "346             0.0         Rural  \n",
      "347             1.0         Urban  \n",
      "348             1.0         Urban  \n",
      "349             1.0         Rural  \n",
      "350             1.0         Rural  \n",
      "351             NaN         Rural  \n",
      "352             1.0         Urban  \n",
      "353             1.0         Rural  \n",
      "354             0.0     Semiurban  \n",
      "355             1.0         Urban  \n",
      "356             1.0         Urban  \n",
      "357             1.0         Urban  \n",
      "358             NaN         Rural  \n",
      "359             1.0     Semiurban  \n",
      "360             NaN         Urban  \n",
      "361             1.0     Semiurban  \n",
      "362             1.0         Urban  \n",
      "363             1.0         Urban  \n",
      "364             NaN     Semiurban  \n",
      "365             1.0         Rural  \n",
      "366             1.0         Rural  \n",
      "\n",
      "[367 rows x 12 columns]\n"
     ]
    }
   ],
   "source": [
    "import numpy as np\n",
    "import pandas as pd\n",
    "import matplotlib.pyplot as plt\n",
    "test_file = 'C:/Users/samara/.spyder-py3/test.csv'\n",
    "    \n",
    "test_set = pd.read_csv(test_file)\n",
    "\n",
    "print(\"ARCHIVO:\" + test_file)\n",
    "print(test_set)\n"
   ]
  },
  {
   "cell_type": "code",
   "execution_count": 4,
   "metadata": {},
   "outputs": [
    {
     "name": "stdout",
     "output_type": "stream",
     "text": [
      "ARCHIVO:C:/Users/samara/.spyder-py3/train.csv\n",
      "      Loan_ID  Gender Married Dependents     Education Self_Employed  \\\n",
      "0    LP001002    Male      No          0      Graduate            No   \n",
      "1    LP001003    Male     Yes          1      Graduate            No   \n",
      "2    LP001005    Male     Yes          0      Graduate           Yes   \n",
      "3    LP001006    Male     Yes          0  Not Graduate            No   \n",
      "4    LP001008    Male      No          0      Graduate            No   \n",
      "5    LP001011    Male     Yes          2      Graduate           Yes   \n",
      "6    LP001013    Male     Yes          0  Not Graduate            No   \n",
      "7    LP001014    Male     Yes         3+      Graduate            No   \n",
      "8    LP001018    Male     Yes          2      Graduate            No   \n",
      "9    LP001020    Male     Yes          1      Graduate            No   \n",
      "10   LP001024    Male     Yes          2      Graduate            No   \n",
      "11   LP001027    Male     Yes          2      Graduate           NaN   \n",
      "12   LP001028    Male     Yes          2      Graduate            No   \n",
      "13   LP001029    Male      No          0      Graduate            No   \n",
      "14   LP001030    Male     Yes          2      Graduate            No   \n",
      "15   LP001032    Male      No          0      Graduate            No   \n",
      "16   LP001034    Male      No          1  Not Graduate            No   \n",
      "17   LP001036  Female      No          0      Graduate            No   \n",
      "18   LP001038    Male     Yes          0  Not Graduate            No   \n",
      "19   LP001041    Male     Yes          0      Graduate           NaN   \n",
      "20   LP001043    Male     Yes          0  Not Graduate            No   \n",
      "21   LP001046    Male     Yes          1      Graduate            No   \n",
      "22   LP001047    Male     Yes          0  Not Graduate            No   \n",
      "23   LP001050     NaN     Yes          2  Not Graduate            No   \n",
      "24   LP001052    Male     Yes          1      Graduate           NaN   \n",
      "25   LP001066    Male     Yes          0      Graduate           Yes   \n",
      "26   LP001068    Male     Yes          0      Graduate            No   \n",
      "27   LP001073    Male     Yes          2  Not Graduate            No   \n",
      "28   LP001086    Male      No          0  Not Graduate            No   \n",
      "29   LP001087  Female      No          2      Graduate           NaN   \n",
      "..        ...     ...     ...        ...           ...           ...   \n",
      "584  LP002911    Male     Yes          1      Graduate            No   \n",
      "585  LP002912    Male     Yes          1      Graduate            No   \n",
      "586  LP002916    Male     Yes          0      Graduate            No   \n",
      "587  LP002917  Female      No          0  Not Graduate            No   \n",
      "588  LP002925     NaN      No          0      Graduate            No   \n",
      "589  LP002926    Male     Yes          2      Graduate           Yes   \n",
      "590  LP002928    Male     Yes          0      Graduate            No   \n",
      "591  LP002931    Male     Yes          2      Graduate           Yes   \n",
      "592  LP002933     NaN      No         3+      Graduate           Yes   \n",
      "593  LP002936    Male     Yes          0      Graduate            No   \n",
      "594  LP002938    Male     Yes          0      Graduate           Yes   \n",
      "595  LP002940    Male      No          0  Not Graduate            No   \n",
      "596  LP002941    Male     Yes          2  Not Graduate           Yes   \n",
      "597  LP002943    Male      No        NaN      Graduate            No   \n",
      "598  LP002945    Male     Yes          0      Graduate           Yes   \n",
      "599  LP002948    Male     Yes          2      Graduate            No   \n",
      "600  LP002949  Female      No         3+      Graduate           NaN   \n",
      "601  LP002950    Male     Yes          0  Not Graduate           NaN   \n",
      "602  LP002953    Male     Yes         3+      Graduate            No   \n",
      "603  LP002958    Male      No          0      Graduate            No   \n",
      "604  LP002959  Female     Yes          1      Graduate            No   \n",
      "605  LP002960    Male     Yes          0  Not Graduate            No   \n",
      "606  LP002961    Male     Yes          1      Graduate            No   \n",
      "607  LP002964    Male     Yes          2  Not Graduate            No   \n",
      "608  LP002974    Male     Yes          0      Graduate            No   \n",
      "609  LP002978  Female      No          0      Graduate            No   \n",
      "610  LP002979    Male     Yes         3+      Graduate            No   \n",
      "611  LP002983    Male     Yes          1      Graduate            No   \n",
      "612  LP002984    Male     Yes          2      Graduate            No   \n",
      "613  LP002990  Female      No          0      Graduate           Yes   \n",
      "\n",
      "     ApplicantIncome  CoapplicantIncome  LoanAmount  Loan_Amount_Term  \\\n",
      "0               5849                0.0         NaN             360.0   \n",
      "1               4583             1508.0       128.0             360.0   \n",
      "2               3000                0.0        66.0             360.0   \n",
      "3               2583             2358.0       120.0             360.0   \n",
      "4               6000                0.0       141.0             360.0   \n",
      "5               5417             4196.0       267.0             360.0   \n",
      "6               2333             1516.0        95.0             360.0   \n",
      "7               3036             2504.0       158.0             360.0   \n",
      "8               4006             1526.0       168.0             360.0   \n",
      "9              12841            10968.0       349.0             360.0   \n",
      "10              3200              700.0        70.0             360.0   \n",
      "11              2500             1840.0       109.0             360.0   \n",
      "12              3073             8106.0       200.0             360.0   \n",
      "13              1853             2840.0       114.0             360.0   \n",
      "14              1299             1086.0        17.0             120.0   \n",
      "15              4950                0.0       125.0             360.0   \n",
      "16              3596                0.0       100.0             240.0   \n",
      "17              3510                0.0        76.0             360.0   \n",
      "18              4887                0.0       133.0             360.0   \n",
      "19              2600             3500.0       115.0               NaN   \n",
      "20              7660                0.0       104.0             360.0   \n",
      "21              5955             5625.0       315.0             360.0   \n",
      "22              2600             1911.0       116.0             360.0   \n",
      "23              3365             1917.0       112.0             360.0   \n",
      "24              3717             2925.0       151.0             360.0   \n",
      "25              9560                0.0       191.0             360.0   \n",
      "26              2799             2253.0       122.0             360.0   \n",
      "27              4226             1040.0       110.0             360.0   \n",
      "28              1442                0.0        35.0             360.0   \n",
      "29              3750             2083.0       120.0             360.0   \n",
      "..               ...                ...         ...               ...   \n",
      "584             2787             1917.0       146.0             360.0   \n",
      "585             4283             3000.0       172.0              84.0   \n",
      "586             2297             1522.0       104.0             360.0   \n",
      "587             2165                0.0        70.0             360.0   \n",
      "588             4750                0.0        94.0             360.0   \n",
      "589             2726                0.0       106.0             360.0   \n",
      "590             3000             3416.0        56.0             180.0   \n",
      "591             6000                0.0       205.0             240.0   \n",
      "592             9357                0.0       292.0             360.0   \n",
      "593             3859             3300.0       142.0             180.0   \n",
      "594            16120                0.0       260.0             360.0   \n",
      "595             3833                0.0       110.0             360.0   \n",
      "596             6383             1000.0       187.0             360.0   \n",
      "597             2987                0.0        88.0             360.0   \n",
      "598             9963                0.0       180.0             360.0   \n",
      "599             5780                0.0       192.0             360.0   \n",
      "600              416            41667.0       350.0             180.0   \n",
      "601             2894             2792.0       155.0             360.0   \n",
      "602             5703                0.0       128.0             360.0   \n",
      "603             3676             4301.0       172.0             360.0   \n",
      "604            12000                0.0       496.0             360.0   \n",
      "605             2400             3800.0         NaN             180.0   \n",
      "606             3400             2500.0       173.0             360.0   \n",
      "607             3987             1411.0       157.0             360.0   \n",
      "608             3232             1950.0       108.0             360.0   \n",
      "609             2900                0.0        71.0             360.0   \n",
      "610             4106                0.0        40.0             180.0   \n",
      "611             8072              240.0       253.0             360.0   \n",
      "612             7583                0.0       187.0             360.0   \n",
      "613             4583                0.0       133.0             360.0   \n",
      "\n",
      "     Credit_History Property_Area Loan_Status  \n",
      "0               1.0         Urban           Y  \n",
      "1               1.0         Rural           N  \n",
      "2               1.0         Urban           Y  \n",
      "3               1.0         Urban           Y  \n",
      "4               1.0         Urban           Y  \n",
      "5               1.0         Urban           Y  \n",
      "6               1.0         Urban           Y  \n",
      "7               0.0     Semiurban           N  \n",
      "8               1.0         Urban           Y  \n",
      "9               1.0     Semiurban           N  \n",
      "10              1.0         Urban           Y  \n",
      "11              1.0         Urban           Y  \n",
      "12              1.0         Urban           Y  \n",
      "13              1.0         Rural           N  \n",
      "14              1.0         Urban           Y  \n",
      "15              1.0         Urban           Y  \n",
      "16              NaN         Urban           Y  \n",
      "17              0.0         Urban           N  \n",
      "18              1.0         Rural           N  \n",
      "19              1.0         Urban           Y  \n",
      "20              0.0         Urban           N  \n",
      "21              1.0         Urban           Y  \n",
      "22              0.0     Semiurban           N  \n",
      "23              0.0         Rural           N  \n",
      "24              NaN     Semiurban           N  \n",
      "25              1.0     Semiurban           Y  \n",
      "26              1.0     Semiurban           Y  \n",
      "27              1.0         Urban           Y  \n",
      "28              1.0         Urban           N  \n",
      "29              1.0     Semiurban           Y  \n",
      "..              ...           ...         ...  \n",
      "584             0.0         Rural           N  \n",
      "585             1.0         Rural           N  \n",
      "586             1.0         Urban           Y  \n",
      "587             1.0     Semiurban           Y  \n",
      "588             1.0     Semiurban           Y  \n",
      "589             0.0     Semiurban           N  \n",
      "590             1.0     Semiurban           Y  \n",
      "591             1.0     Semiurban           N  \n",
      "592             1.0     Semiurban           Y  \n",
      "593             1.0         Rural           Y  \n",
      "594             1.0         Urban           Y  \n",
      "595             1.0         Rural           Y  \n",
      "596             1.0         Rural           N  \n",
      "597             0.0     Semiurban           N  \n",
      "598             1.0         Rural           Y  \n",
      "599             1.0         Urban           Y  \n",
      "600             NaN         Urban           N  \n",
      "601             1.0         Rural           Y  \n",
      "602             1.0         Urban           Y  \n",
      "603             1.0         Rural           Y  \n",
      "604             1.0     Semiurban           Y  \n",
      "605             1.0         Urban           N  \n",
      "606             1.0     Semiurban           Y  \n",
      "607             1.0         Rural           Y  \n",
      "608             1.0         Rural           Y  \n",
      "609             1.0         Rural           Y  \n",
      "610             1.0         Rural           Y  \n",
      "611             1.0         Urban           Y  \n",
      "612             1.0         Urban           Y  \n",
      "613             0.0     Semiurban           N  \n",
      "\n",
      "[614 rows x 13 columns]\n"
     ]
    }
   ],
   "source": [
    "Archivo ='C:/Users/samara/.spyder-py3/train.csv'\n",
    "    \n",
    "array_to_df = pd.read_csv(Archivo)\n",
    "\n",
    "print(\"ARCHIVO:\" + Archivo)\n",
    "print(array_to_df)"
   ]
  },
  {
   "attachments": {
    "resumen_train.PNG": {
     "image/png": "[encoded data removed]"
    }
   },
   "cell_type": "markdown",
   "metadata": {},
   "source": [
    "2. Revisa [este sitio](https://datahack.analyticsvidhya.com/contest/) para que entiendas el reto.Busca la documentación que viene sobre el dataset para llenar la misma tabla que llenaste para R, en donde venga la descripción, el tipo de variable, los rangos.\n",
    "![resumen_train.PNG](attachment:resumen_train.PNG)\n"
   ]
  },
  {
   "cell_type": "markdown",
   "metadata": {},
   "source": [
    "3. ¿Cuántas observaciones se tienen en cada dataset? "
   ]
  },
  {
   "cell_type": "code",
   "execution_count": 6,
   "metadata": {},
   "outputs": [
    {
     "name": "stdout",
     "output_type": "stream",
     "text": [
      "\n",
      "Tipo de dato: <class 'pandas.core.frame.DataFrame'>\n",
      "\n",
      "La dimensión es: \n",
      "(614, 13)\n",
      "\n",
      "El número de filas es: \n",
      "614\n"
     ]
    }
   ],
   "source": [
    "print(\"\\nTipo de dato: \" + str(type(array_to_df)))\n",
    "print(\"\\nLa dimensión es: \")\n",
    "print(array_to_df.shape)\n",
    "\n",
    "print(\"\\nEl número de filas es: \")\n",
    "print(len(array_to_df.index))"
   ]
  },
  {
   "cell_type": "markdown",
   "metadata": {},
   "source": [
    "¿Cuántas columnas (puedes usar `dataframe.columns`)?"
   ]
  },
  {
   "cell_type": "code",
   "execution_count": 7,
   "metadata": {},
   "outputs": [
    {
     "name": "stdout",
     "output_type": "stream",
     "text": [
      "\n",
      "El número de columnas es: \n",
      "13\n",
      "\n",
      "Data Types\n",
      "float64    4\n",
      "int64      1\n",
      "object     8\n",
      "dtype: int64\n",
      "\n",
      "Column headings:\n",
      "Index(['Loan_ID', 'Gender', 'Married', 'Dependents', 'Education',\n",
      "       'Self_Employed', 'ApplicantIncome', 'CoapplicantIncome', 'LoanAmount',\n",
      "       'Loan_Amount_Term', 'Credit_History', 'Property_Area', 'Loan_Status'],\n",
      "      dtype='object')\n"
     ]
    }
   ],
   "source": [
    "print(\"\\nEl número de columnas es: \")\n",
    "print(len(array_to_df.columns))\n",
    "\n",
    "print(\"\\nData Types\")\n",
    "print(array_to_df.get_dtype_counts())\n",
    "\n",
    "print(\"\\nColumn headings:\")\n",
    "print(array_to_df.columns)"
   ]
  },
  {
   "cell_type": "markdown",
   "metadata": {},
   "source": [
    "¿Cuáles son los primeros 5 registros?"
   ]
  },
  {
   "cell_type": "code",
   "execution_count": 8,
   "metadata": {},
   "outputs": [
    {
     "name": "stdout",
     "output_type": "stream",
     "text": [
      "Los primeros 10 registros son: \n",
      "    Loan_ID Gender Married Dependents     Education Self_Employed  \\\n",
      "0  LP001002   Male      No          0      Graduate            No   \n",
      "1  LP001003   Male     Yes          1      Graduate            No   \n",
      "2  LP001005   Male     Yes          0      Graduate           Yes   \n",
      "3  LP001006   Male     Yes          0  Not Graduate            No   \n",
      "4  LP001008   Male      No          0      Graduate            No   \n",
      "\n",
      "   ApplicantIncome  CoapplicantIncome  LoanAmount  Loan_Amount_Term  \\\n",
      "0             5849                0.0         NaN             360.0   \n",
      "1             4583             1508.0       128.0             360.0   \n",
      "2             3000                0.0        66.0             360.0   \n",
      "3             2583             2358.0       120.0             360.0   \n",
      "4             6000                0.0       141.0             360.0   \n",
      "\n",
      "   Credit_History Property_Area Loan_Status  \n",
      "0             1.0         Urban           Y  \n",
      "1             1.0         Rural           N  \n",
      "2             1.0         Urban           Y  \n",
      "3             1.0         Urban           Y  \n",
      "4             1.0         Urban           Y  \n"
     ]
    }
   ],
   "source": [
    "print(\"Los primeros 10 registros son: \")\n",
    "print(array_to_df.head())"
   ]
  },
  {
   "cell_type": "markdown",
   "metadata": {},
   "source": [
    "4. Observa cuántos Nas tienes por columna y por fila (usa la función que vimos para hacerlo para todas las columnas/filas de una vez). Elimina las filas en donde haya valores nulos."
   ]
  },
  {
   "cell_type": "code",
   "execution_count": 9,
   "metadata": {},
   "outputs": [
    {
     "name": "stdout",
     "output_type": "stream",
     "text": [
      "Número de Nas por fila: \n",
      "0      1\n",
      "1      0\n",
      "2      0\n",
      "3      0\n",
      "4      0\n",
      "5      0\n",
      "6      0\n",
      "7      0\n",
      "8      0\n",
      "9      0\n",
      "10     0\n",
      "11     1\n",
      "12     0\n",
      "13     0\n",
      "14     0\n",
      "15     0\n",
      "16     1\n",
      "17     0\n",
      "18     0\n",
      "19     2\n",
      "20     0\n",
      "21     0\n",
      "22     0\n",
      "23     1\n",
      "24     2\n",
      "25     0\n",
      "26     0\n",
      "27     0\n",
      "28     0\n",
      "29     1\n",
      "      ..\n",
      "584    0\n",
      "585    0\n",
      "586    0\n",
      "587    0\n",
      "588    1\n",
      "589    0\n",
      "590    0\n",
      "591    0\n",
      "592    1\n",
      "593    0\n",
      "594    0\n",
      "595    0\n",
      "596    0\n",
      "597    1\n",
      "598    0\n",
      "599    0\n",
      "600    2\n",
      "601    1\n",
      "602    0\n",
      "603    0\n",
      "604    0\n",
      "605    1\n",
      "606    0\n",
      "607    0\n",
      "608    0\n",
      "609    0\n",
      "610    0\n",
      "611    0\n",
      "612    0\n",
      "613    0\n",
      "Length: 614, dtype: int64\n",
      "\n",
      "Número de Nas por columna: \n",
      "Loan_ID               0\n",
      "Gender               13\n",
      "Married               3\n",
      "Dependents           15\n",
      "Education             0\n",
      "Self_Employed        32\n",
      "ApplicantIncome       0\n",
      "CoapplicantIncome     0\n",
      "LoanAmount           22\n",
      "Loan_Amount_Term     14\n",
      "Credit_History       50\n",
      "Property_Area         0\n",
      "Loan_Status           0\n",
      "dtype: int64\n",
      "\n",
      "Identifico los renglones con nulos a borrar\n",
      "\n",
      "Verificamos el reemplazo de Nas: \n",
      "Loan_ID              0\n",
      "Gender               0\n",
      "Married              0\n",
      "Dependents           0\n",
      "Education            0\n",
      "Self_Employed        0\n",
      "ApplicantIncome      0\n",
      "CoapplicantIncome    0\n",
      "LoanAmount           0\n",
      "Loan_Amount_Term     0\n",
      "Credit_History       0\n",
      "Property_Area        0\n",
      "Loan_Status          0\n",
      "dtype: int64\n"
     ]
    }
   ],
   "source": [
    "def num_nulos(x):\n",
    "    return x.isnull().sum()\n",
    "\n",
    "print(\"Número de Nas por fila: \")\n",
    "print(array_to_df.apply(num_nulos, axis=1))\n",
    " \n",
    "print(\"\\nNúmero de Nas por columna: \")\n",
    "print(array_to_df.apply(num_nulos, axis=0))\n",
    "\n",
    "print(\"\\nIdentifico los renglones con nulos a borrar\")\n",
    "array_to_df=array_to_df.dropna()\n",
    "\n",
    "print(\"\\nVerificamos el reemplazo de Nas: \")\n",
    "print(array_to_df.apply(num_nulos, axis=0))"
   ]
  },
  {
   "cell_type": "markdown",
   "metadata": {},
   "source": [
    "5. Recodifica a 0-1 las variables categóricas que estén siendo tratadas como strings. Usa la función `replace` que vimos, con un diccionario para hacer esto."
   ]
  },
  {
   "cell_type": "code",
   "execution_count": 10,
   "metadata": {},
   "outputs": [
    {
     "name": "stdout",
     "output_type": "stream",
     "text": [
      "\n",
      "\n",
      "Reemplazo categoricas por 0 y 1: \n",
      "    Loan_ID  Gender  Married Dependents  Education  Self_Employed  \\\n",
      "1  LP001003       0        1          1          1              0   \n",
      "2  LP001005       0        1          0          1              1   \n",
      "3  LP001006       0        1          0          0              0   \n",
      "4  LP001008       0        0          0          1              0   \n",
      "5  LP001011       0        1          2          1              1   \n",
      "\n",
      "   ApplicantIncome  CoapplicantIncome  LoanAmount  Loan_Amount_Term  \\\n",
      "1             4583             1508.0       128.0             360.0   \n",
      "2             3000                0.0        66.0             360.0   \n",
      "3             2583             2358.0       120.0             360.0   \n",
      "4             6000                0.0       141.0             360.0   \n",
      "5             5417             4196.0       267.0             360.0   \n",
      "\n",
      "   Credit_History  Property_Area  Loan_Status  \n",
      "1             1.0              2            0  \n",
      "2             1.0              1            1  \n",
      "3             1.0              1            1  \n",
      "4             1.0              1            1  \n",
      "5             1.0              1            1  \n"
     ]
    }
   ],
   "source": [
    "print(\"\\n\")\n",
    "print(\"Reemplazo categoricas por 0 y 1: \")\n",
    "array_to_df = array_to_df.replace(['Male', 'Female'], [0,1])\n",
    "array_to_df = array_to_df.replace(['No', 'Yes'], [0,1])\n",
    "array_to_df = array_to_df.replace(['Not Graduate', 'Graduate'], [0,1])\n",
    "array_to_df = array_to_df.replace(['Semiurban', 'Urban','Rural'], [0,1,2])\n",
    "array_to_df = array_to_df.replace(['3+'], [3])\n",
    "array_to_df = array_to_df.replace(['N', 'Y'], [0,1])\n",
    "print(array_to_df.head())"
   ]
  },
  {
   "cell_type": "markdown",
   "metadata": {},
   "source": [
    "6. Da un resumen de la media, la mediana, desviación estándar, mínimo, máximo de las variables. "
   ]
  },
  {
   "cell_type": "code",
   "execution_count": 11,
   "metadata": {},
   "outputs": [
    {
     "name": "stdout",
     "output_type": "stream",
     "text": [
      "\n",
      "\n",
      "ESTADISTICOS\n",
      "count    480.000000\n",
      "mean       0.179167\n",
      "std        0.383892\n",
      "min        0.000000\n",
      "25%        0.000000\n",
      "50%        0.000000\n",
      "75%        0.000000\n",
      "max        1.000000\n",
      "Name: Gender, dtype: float64\n",
      "count    480.000000\n",
      "mean       0.854167\n",
      "std        0.353307\n",
      "min        0.000000\n",
      "25%        1.000000\n",
      "50%        1.000000\n",
      "75%        1.000000\n",
      "max        1.000000\n",
      "Name: Credit_History, dtype: float64\n",
      "count    480.000000\n",
      "mean       0.647917\n",
      "std        0.478118\n",
      "min        0.000000\n",
      "25%        0.000000\n",
      "50%        1.000000\n",
      "75%        1.000000\n",
      "max        1.000000\n",
      "Name: Married, dtype: float64\n",
      "count    480.000000\n",
      "mean       0.797917\n",
      "std        0.401973\n",
      "min        0.000000\n",
      "25%        1.000000\n",
      "50%        1.000000\n",
      "75%        1.000000\n",
      "max        1.000000\n",
      "Name: Education, dtype: float64\n",
      "count     480\n",
      "unique      4\n",
      "top         0\n",
      "freq      274\n",
      "Name: Dependents, dtype: object\n",
      "count    480.000000\n",
      "mean       0.137500\n",
      "std        0.344734\n",
      "min        0.000000\n",
      "25%        0.000000\n",
      "50%        0.000000\n",
      "75%        0.000000\n",
      "max        1.000000\n",
      "Name: Self_Employed, dtype: float64\n",
      "count    480.000000\n",
      "mean       0.891667\n",
      "std        0.822906\n",
      "min        0.000000\n",
      "25%        0.000000\n",
      "50%        1.000000\n",
      "75%        2.000000\n",
      "max        2.000000\n",
      "Name: Property_Area, dtype: float64\n",
      "count      480.000000\n",
      "mean      5364.231250\n",
      "std       5668.251251\n",
      "min        150.000000\n",
      "25%       2898.750000\n",
      "50%       3859.000000\n",
      "75%       5852.500000\n",
      "max      81000.000000\n",
      "Name: ApplicantIncome, dtype: float64\n",
      "count    480.000000\n",
      "mean     144.735417\n",
      "std       80.508164\n",
      "min        9.000000\n",
      "25%      100.000000\n",
      "50%      128.000000\n",
      "75%      170.000000\n",
      "max      600.000000\n",
      "Name: LoanAmount, dtype: float64\n",
      "count      480.000000\n",
      "mean      1581.093583\n",
      "std       2617.692267\n",
      "min          0.000000\n",
      "25%          0.000000\n",
      "50%       1084.500000\n",
      "75%       2253.250000\n",
      "max      33837.000000\n",
      "Name: CoapplicantIncome, dtype: float64\n",
      "count    480.000000\n",
      "mean       0.854167\n",
      "std        0.353307\n",
      "min        0.000000\n",
      "25%        1.000000\n",
      "50%        1.000000\n",
      "75%        1.000000\n",
      "max        1.000000\n",
      "Name: Credit_History, dtype: float64\n",
      "count    480.000000\n",
      "mean       0.691667\n",
      "std        0.462287\n",
      "min        0.000000\n",
      "25%        0.000000\n",
      "50%        1.000000\n",
      "75%        1.000000\n",
      "max        1.000000\n",
      "Name: Loan_Status, dtype: float64\n"
     ]
    }
   ],
   "source": [
    "print(\"\\n\")\n",
    "print(\"ESTADISTICOS\")\n",
    "print(array_to_df.Gender.describe())\n",
    "print(array_to_df.Credit_History.describe())\n",
    "print(array_to_df.Married.describe())\n",
    "print(array_to_df.Education.describe())\n",
    "print(array_to_df.Dependents.describe())\n",
    "print(array_to_df.Self_Employed.describe())\n",
    "print(array_to_df.Property_Area.describe())\n",
    "print(array_to_df.ApplicantIncome.describe())\n",
    "print(array_to_df.LoanAmount.describe())\n",
    "print(array_to_df.CoapplicantIncome.describe())\n",
    "print(array_to_df.Credit_History.describe())\n",
    "print(array_to_df.Loan_Status.describe())"
   ]
  },
  {
   "cell_type": "markdown",
   "metadata": {},
   "source": [
    "6.1 Adicionalmente usa `df[col_name].value_counts()` para saber cuántas observaciones se tienen para las variables categóricas."
   ]
  },
  {
   "cell_type": "code",
   "execution_count": 12,
   "metadata": {},
   "outputs": [
    {
     "name": "stdout",
     "output_type": "stream",
     "text": [
      "\n",
      "\n",
      "Observaciones que se tienen para las variables categóricas:\n",
      "0    394\n",
      "1     86\n",
      "Name: Gender, dtype: int64\n",
      "1.0    410\n",
      "0.0     70\n",
      "Name: Credit_History, dtype: int64\n",
      "1    311\n",
      "0    169\n",
      "Name: Married, dtype: int64\n",
      "1    383\n",
      "0     97\n",
      "Name: Education, dtype: int64\n",
      "0    274\n",
      "2     85\n",
      "1     80\n",
      "3     41\n",
      "Name: Dependents, dtype: int64\n",
      "0    414\n",
      "1     66\n",
      "Name: Self_Employed, dtype: int64\n",
      "0    191\n",
      "1    150\n",
      "2    139\n",
      "Name: Property_Area, dtype: int64\n",
      "1    332\n",
      "0    148\n",
      "Name: Loan_Status, dtype: int64\n"
     ]
    }
   ],
   "source": [
    "print(\"\\n\")\n",
    "print(\"Observaciones que se tienen para las variables categóricas:\")\n",
    "print(array_to_df.Gender.value_counts())\n",
    "print(array_to_df.Credit_History.value_counts())\n",
    "print(array_to_df.Married.value_counts())\n",
    "print(array_to_df.Education.value_counts())\n",
    "print(array_to_df.Dependents.value_counts())\n",
    "print(array_to_df.Self_Employed.value_counts())\n",
    "print(array_to_df.Property_Area.value_counts())\n",
    "print(array_to_df.Loan_Status.value_counts())"
   ]
  },
  {
   "cell_type": "markdown",
   "metadata": {},
   "source": [
    "7. Para las variables categóricas, usa una `crosstab` para saber si se les da más créditos a las mujeres que a los hombres.  Usa otra `crosstab` para saber si el hecho de tener historial crediticio hace que sea más fácil que te aprueben un crédito. **BONUS:** Investiga cómo poner porcentajes en estas tabla en vez de números."
   ]
  },
  {
   "cell_type": "code",
   "execution_count": 13,
   "metadata": {},
   "outputs": [
    {
     "name": "stdout",
     "output_type": "stream",
     "text": [
      "CROSSTAB: Creditos autorizados / Hombres vs Mujeres\n",
      "Gender               0          1         All\n",
      "Loan_Status                                  \n",
      "0            24.166667   6.666667   30.833333\n",
      "1            57.916667  11.250000   69.166667\n",
      "All          82.083333  17.916667  100.000000\n",
      "\n",
      "\n"
     ]
    }
   ],
   "source": [
    "print(\"CROSSTAB: Creditos autorizados / Hombres vs Mujeres\")\t\n",
    "print(pd.crosstab(array_to_df[\"Loan_Status\"],array_to_df[\"Gender\"],margins=True).apply(lambda r: r/len(array_to_df) *100,axis=1))\n",
    "print(\"\\n\")"
   ]
  },
  {
   "cell_type": "markdown",
   "metadata": {},
   "source": [
    "¿Cuáles son tus conclusiones? \n",
    "1 = Mujeres    1 = Si\n",
    "0 = Hombres    0 = No\n",
    "\n",
    "El 82% de las solicitudes son realizadas por hombres.\n",
    "El genero no es un criterio que se utilize al momento de autorizar un credito."
   ]
  },
  {
   "cell_type": "code",
   "execution_count": 14,
   "metadata": {},
   "outputs": [
    {
     "name": "stdout",
     "output_type": "stream",
     "text": [
      "CROSSTAB: Historial crediticio vs Creditos autorizados\n",
      "Loan_Status             0          1         All\n",
      "Credit_History                                  \n",
      "0.0             13.125000   1.458333   14.583333\n",
      "1.0             17.708333  67.708333   85.416667\n",
      "All             30.833333  69.166667  100.000000\n",
      "\n",
      "\n"
     ]
    }
   ],
   "source": [
    "print(\"CROSSTAB: Historial crediticio vs Creditos autorizados\")\t\n",
    "print(pd.crosstab(array_to_df[\"Credit_History\"],array_to_df[\"Loan_Status\"],margins=True).apply(lambda r: r/len(array_to_df) *100,axis=1))\n",
    "print(\"\\n\")"
   ]
  },
  {
   "cell_type": "markdown",
   "metadata": {},
   "source": [
    " ¿Cuáles son tus conclusiones? \n",
    " 0 = No\n",
    " 1 = Si\n",
    " \n",
    " Si el solicitante cuenta con el antecedente de haber solicitado un credito, existe un 67% de posibilidad de que le autoricen una nueva solicitud\n",
    " Si nunca ha solicitado un credito existe un 92% de posibilidad de que se lo rechacen"
   ]
  },
  {
   "cell_type": "markdown",
   "metadata": {},
   "source": [
    "8. Haz un histograma para el ingreso de la persona y otro para la cantidad prestada."
   ]
  },
  {
   "cell_type": "code",
   "execution_count": 15,
   "metadata": {},
   "outputs": [
    {
     "name": "stdout",
     "output_type": "stream",
     "text": [
      "Histograma ingreso de la persona\n"
     ]
    },
    {
     "data": {
      "text/plain": [
       "<matplotlib.axes._subplots.AxesSubplot at 0x2738bf63f28>"
      ]
     },
     "execution_count": 15,
     "metadata": {},
     "output_type": "execute_result"
    },
    {
     "data": {
      "image/png": "[encoded data removed]",
      "text/plain": [
       "<Figure size 432x288 with 1 Axes>"
      ]
     },
     "metadata": {
      "needs_background": "light"
     },
     "output_type": "display_data"
    }
   ],
   "source": [
    "print(\"Histograma ingreso de la persona\")\n",
    "array_to_df['ApplicantIncome'].hist(bins=10)"
   ]
  },
  {
   "cell_type": "code",
   "execution_count": 16,
   "metadata": {},
   "outputs": [
    {
     "name": "stdout",
     "output_type": "stream",
     "text": [
      "Histograma cantidad prestada\n",
      "AxesSubplot(0.125,0.125;0.775x0.755)\n"
     ]
    },
    {
     "data": {
      "image/png": "[encoded data removed]",
      "text/plain": [
       "<Figure size 432x288 with 1 Axes>"
      ]
     },
     "metadata": {
      "needs_background": "light"
     },
     "output_type": "display_data"
    }
   ],
   "source": [
    "print(\"Histograma cantidad prestada\")\n",
    "apr=array_to_df[array_to_df['Loan_Status']==1]\n",
    "print(apr['LoanAmount'].hist(bins=10))"
   ]
  },
  {
   "cell_type": "markdown",
   "metadata": {},
   "source": [
    "¿Qué observas?\n"
   ]
  },
  {
   "cell_type": "markdown",
   "metadata": {},
   "source": [
    "9. Haz un boxplot para la cantidad del préstamo según el historial crediticio de la persona. ¿Hay diferencias en la cantidad prestada dependiendo si tiene historial o no?"
   ]
  },
  {
   "cell_type": "code",
   "execution_count": 17,
   "metadata": {},
   "outputs": [
    {
     "name": "stdout",
     "output_type": "stream",
     "text": [
      "Boxplot para la cantidad prestada \n"
     ]
    },
    {
     "data": {
      "text/plain": [
       "<matplotlib.axes._subplots.AxesSubplot at 0x2738e822828>"
      ]
     },
     "execution_count": 17,
     "metadata": {},
     "output_type": "execute_result"
    },
    {
     "data": {
      "image/png": "[encoded data removed]",
      "text/plain": [
       "<Figure size 432x288 with 1 Axes>"
      ]
     },
     "metadata": {
      "needs_background": "light"
     },
     "output_type": "display_data"
    }
   ],
   "source": [
    "print(\"Boxplot para la cantidad prestada \")\n",
    "array_to_df.boxplot(column='LoanAmount',by=\"Credit_History\")"
   ]
  },
  {
   "cell_type": "markdown",
   "metadata": {},
   "source": [
    "Cuando no se tiene antecedente de un credito anterior, es menos frecuente que sean montos altos\n",
    "En cambio, cuando existe historial el prestamo es mayor y una variacion en monto del prestamo\n"
   ]
  },
  {
   "cell_type": "markdown",
   "metadata": {},
   "source": [
    "Repite el mismo boxplot pero ahora según el sexo."
   ]
  },
  {
   "cell_type": "code",
   "execution_count": 18,
   "metadata": {},
   "outputs": [
    {
     "name": "stdout",
     "output_type": "stream",
     "text": [
      "Boxplot para Gender\n"
     ]
    },
    {
     "data": {
      "text/plain": [
       "<matplotlib.axes._subplots.AxesSubplot at 0x2738eddcbe0>"
      ]
     },
     "execution_count": 18,
     "metadata": {},
     "output_type": "execute_result"
    },
    {
     "data": {
      "image/png": "[encoded data removed]",
      "text/plain": [
       "<Figure size 432x288 with 1 Axes>"
      ]
     },
     "metadata": {
      "needs_background": "light"
     },
     "output_type": "display_data"
    }
   ],
   "source": [
    "print(\"Boxplot para Gender\")\n",
    "array_to_df.boxplot(column='LoanAmount',by=\"Gender\")"
   ]
  },
  {
   "cell_type": "markdown",
   "metadata": {},
   "source": [
    "¿Hay diferencias?\n",
    "Si, a los hombres se les autorizan montos crediticios mas altos y el monto tiende a ser mucho mas variable\n",
    "\n"
   ]
  }
 ],
 "metadata": {
  "kernelspec": {
   "display_name": "Python 3",
   "language": "python",
   "name": "python3"
  },
  "language_info": {
   "codemirror_mode": {
    "name": "ipython",
    "version": 3
   },
   "file_extension": ".py",
   "mimetype": "text/x-python",
   "name": "python",
   "nbconvert_exporter": "python",
   "pygments_lexer": "ipython3",
   "version": "3.7.0"
  }
 },
 "nbformat": 4,
 "nbformat_minor": 2
}
